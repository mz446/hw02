{
  "cells": [
    {
      "cell_type": "markdown",
      "id": "03556360-56ea-4722-a4c4-e18e12dd3cc3",
      "metadata": {},
      "source": [
        "# BEE 4750 Homework 2: Systems Modeling and Simulation\n",
        "\n",
        "**Name**:\n",
        "\n",
        "**ID**:\n",
        "\n",
        "> **Due Date**\n",
        ">\n",
        "> Thursday, 09/19/24, 9:00pm\n",
        "\n",
        "## Overview\n",
        "\n",
        "### Instructions\n",
        "\n",
        "-   Problem 1 asks you to derive a model for water quality in a river\n",
        "    system and use this model to check for regulatory compliance.\n",
        "-   Problem 2 asks you to explore the dynamics and equilibrium stability\n",
        "    of the shallow lake model under a particular set of parameter\n",
        "    values.\n",
        "-   Problem 3 (5750 only) asks you to modify the lake eutrophication\n",
        "    example from Lecture 04 to account for atmospheric deposition.\n",
        "\n",
        "### Load Environment\n",
        "\n",
        "The following code loads the environment and makes sure all needed\n",
        "packages are installed. This should be at the start of most Julia\n",
        "scripts."
      ]
    },
    {
      "cell_type": "code",
      "execution_count": 1,
      "id": "2",
      "metadata": {},
      "outputs": [
        {
          "name": "stderr",
          "output_type": "stream",
          "text": [
            "\u001b[32m\u001b[1m  Activating\u001b[22m\u001b[39m project at `c:\\Users\\mayaz\\OneDrive\\Desktop\\MEng\\BEE4750\\hw\\hw02`\n"
          ]
        }
      ],
      "source": [
        "import Pkg\n",
        "Pkg.activate(@__DIR__)\n",
        "Pkg.instantiate()"
      ]
    },
    {
      "cell_type": "code",
      "execution_count": 2,
      "id": "4",
      "metadata": {},
      "outputs": [],
      "source": [
        "using Plots\n",
        "using LaTeXStrings\n",
        "using CSV\n",
        "using DataFrames\n",
        "using Roots"
      ]
    },
    {
      "cell_type": "markdown",
      "id": "0e19c1f0-6555-4982-9dcd-0475b45d6b50",
      "metadata": {},
      "source": [
        "## Problems (Total: 50/60 Points)"
      ]
    },
    {
      "cell_type": "markdown",
      "id": "bff6d334-618c-48ba-b61c-7f30ebfec859",
      "metadata": {},
      "source": [
        "### Problem 1 (25 points)\n",
        "\n",
        "A river which flows at 10 km/d is receiving discharges of wastewater\n",
        "contaminated with CRUD from two sources which are 15 km apart, as shown\n",
        "in the Figure below. CRUD decays exponentially in the river at a rate of\n",
        "0.36 $\\mathrm{d}^{-1}$."
      ]
    },
    {
      "cell_type": "markdown",
      "id": "35c816c1-cc2a-42dc-a0f0-92569c04734f",
      "metadata": {},
      "source": [
        "<figure>\n",
        "<img src=\"attachment:figures/river_diagram.png\"\n",
        "alt=\"Schematic of the river system in Problem 1\" />\n",
        "<figcaption aria-hidden=\"true\">Schematic of the river system in Problem\n",
        "1</figcaption>\n",
        "</figure>"
      ]
    },
    {
      "cell_type": "markdown",
      "id": "b978e014-df49-4b50-89ba-f416bb8f6de5",
      "metadata": {},
      "source": [
        "**In this problem**:\n",
        "\n",
        "-   Assuming steady-state conditions, derive a model for the\n",
        "    concentration of CRUD downriver by solving the appropriate\n",
        "    differential equation(s) analytically.\n",
        "-   Determine if the system in compliance with a regulatory limit of 2.5\n",
        "    kg/(1000 m$^3$)."
      ]
    },
    {
      "cell_type": "markdown",
      "id": "e15c726e-992b-4910-bee8-3a5ca616a393",
      "metadata": {},
      "source": [
        "> **Tip**\n",
        ">\n",
        "> Formulate your model in terms of distance downriver, rather than\n",
        "> leaving it in terms of time from discharge.\n",
        "\n",
        "### Problem 2 (25 points)\n",
        "\n",
        "Consider the shallow lake model from class:\n",
        "\n",
        "$$\n",
        "\\begin{aligned}\n",
        "X_{t+1} &= X_t + a_t + y_t + \\frac{X_t^q}{1 + X_t^q} - bX_t, \\\\\n",
        "y_t &\\sim \\text{LogNormal}(\\mu, \\sigma^2),\n",
        "\\end{aligned}\n",
        "$$\n",
        "\n",
        "where:\n",
        "\n",
        "-   $X_t$ is the lake phosphorous (P) concentration at time $t$;\n",
        "-   $a_t$ is the point-source P release at time $t$;\n",
        "-   $y_t$ is the non-point-source P release at time $t$, which is\n",
        "    treated as random from a LogNormal distribution with mean $\\mu$ and\n",
        "    standard deviation $\\sigma$;\n",
        "-   $b$ is the linear rate of P outflow;\n",
        "-   $q$ is a parameter influencing the rate of P recycling from the\n",
        "    sediment.\n",
        "\n",
        "**In this problem**:\n",
        "\n",
        "-   Make an initial conditions plot for the model dynamics for $b=0.5$,\n",
        "    $q=1.5$, $y_t=0$, and $a_t=0$ for $t=0, \\ldots, 30$. What are the\n",
        "    equilibria? What can you say about the resilience of the system?\n",
        "\n",
        "    > **Finding equilibria**\n",
        "    >\n",
        "    > Use [`Roots.jl`](https://juliamath.github.io/Roots.jl/stable/) to\n",
        "    > find the equilibria by solving for values where $X_{t+1} = X_t$.\n",
        "    > For example, if you have functions `X_outflow(X,b)` and\n",
        "    > `X_recycling(X,q)`, you could create a function\n",
        "    > `X_delta(x, a) = a + X_recycling(x) - X_outflow(x)` and call\n",
        "    > `Roots.find_zero(x -> X_delta(x, a), x₀)`, where `x₀` is an\n",
        "    > initial value for the search (you might need to use your plot to\n",
        "    > find values for `x₀` near each of the “true” equilibria).\n",
        "\n",
        "-   Repeat the analysis with $a_t=0.02$ for all $t$. What are the new\n",
        "    equilibria? How have the dynamics and resilience of the system\n",
        "    changed?"
      ]
    },
    {
      "cell_type": "code",
      "execution_count": 9,
      "id": "55ec7988",
      "metadata": {},
      "outputs": [
        {
          "name": "stdout",
          "output_type": "stream",
          "text": []
        }
      ],
      "source": [
        "# define functions for lake recycling and outflows\n",
        "lake_P_cycling(x, q) = x.^q ./ (1 .+ x.^q);\n",
        "lake_P_out(x, b) = b .* x;\n",
        "\n",
        "T = 30\n",
        "X_vals = collect(0.0:0.1:2.5)\n",
        "function simulate_lake_P(X_ic, T, b, q, a, y)\n",
        "    X = zeros(T)\n",
        "    X[1] = X_ic\n",
        "    for t = 2:T\n",
        "        X[t] = X[t-1] .+ a[t] .+ y[t].+ lake_P_cycling(X[t-1], q) .- lake_P_out(X[t-1], b)\n",
        "    end\n",
        "    return X\n",
        "end\n",
        "X = map(x -> simulate_lake_P(x, T, 0.4, 2.5, zeros(T), zeros(T)), X_vals) #broadcasting\n",
        "p_noinflow = plot(X, label=false, ylabel=L\"X_t\", xlabel=\"Time\", guidefontsize=18, tickfontsize=16, size=(600, 500), left_margin=5, bottom_margin=5)\n",
        "display(p_noinflow)\n"
      ]
    },
    {
      "cell_type": "markdown",
      "id": "e4b0b2d9-9b94-48a5-a621-279ba2070bba",
      "metadata": {},
      "source": [
        "### Problem 3 (10 points)\n",
        "\n",
        "**This problem is only required for students in BEE 5750**.\n",
        "\n",
        "Consider the lake eutrophication example from [Lecture\n",
        "04](https://viveks.me/environmental-systems-analysis/slides/lecture03-1-eutrophication-modeling.html#/title-slide).\n",
        "Suppose that phosphorous is also atmospherically deposited onto the lake\n",
        "surface at a rate of\n",
        "$1.6 \\times 10^{-4} \\mathrm{kg/(yr} \\cdot \\mathrm{m}^2)$, which is then\n",
        "instantly mixed into the lake. Derive a model for the lake phosphorous\n",
        "concentration and find the maximum allowable point source phosphorous\n",
        "loading if the goal is to keep lake concentrations below 0.02 mg/L."
      ]
    },
    {
      "cell_type": "markdown",
      "id": "e71b3287-535a-4575-9fc3-67603491f050",
      "metadata": {},
      "source": [
        "## References\n",
        "\n",
        "List any external references consulted, including classmates."
      ]
    }
  ],
  "metadata": {
    "kernel_info": {
      "name": "julia"
    },
    "kernelspec": {
      "display_name": "Julia 1.10.3",
      "language": "julia",
      "name": "julia-1.10"
    },
    "language_info": {
      "file_extension": ".jl",
      "mimetype": "application/julia",
      "name": "julia",
      "version": "1.10.3"
    }
  },
  "nbformat": 4,
  "nbformat_minor": 5
}
