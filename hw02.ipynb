{
  "cells": [
    {
      "cell_type": "markdown",
      "metadata": {},
      "source": [
        "# BEE 4750 Homework 2: Systems Modeling and Simulation\n",
        "\n",
        "**Name**:\n",
        "\n",
        "**ID**:\n",
        "\n",
        "> **Due Date**\n",
        ">\n",
        "> Thursday, 09/19/24, 9:00pm\n",
        "\n",
        "## Overview\n",
        "\n",
        "### Instructions\n",
        "\n",
        "-   Problem 1 asks you to derive a model for water quality in a river\n",
        "    system and use this model to check for regulatory compliance.\n",
        "-   Problem 2 asks you to discretize a simple climate model and use it\n",
        "    to simulate global mean temperatures under a future emissions\n",
        "    scenario.\n",
        "-   Problem 3 (5750 only) asks you to modify the lake eutrophication\n",
        "    example from Lecture 04 to account for atmospheric deposition.\n",
        "\n",
        "### Load Environment\n",
        "\n",
        "The following code loads the environment and makes sure all needed\n",
        "packages are installed. This should be at the start of most Julia\n",
        "scripts."
      ],
      "id": "c7e13c58-aa12-4287-ab66-d00c744c319b"
    },
    {
      "cell_type": "code",
      "execution_count": 1,
      "metadata": {},
      "outputs": [],
      "source": [
        "import Pkg\n",
        "Pkg.activate(@__DIR__)\n",
        "Pkg.instantiate()"
      ],
      "id": "2"
    },
    {
      "cell_type": "code",
      "execution_count": 1,
      "metadata": {},
      "outputs": [],
      "source": [
        "using Plots\n",
        "using LaTeXStrings\n",
        "using CSV\n",
        "using DataFrames\n",
        "using Roots"
      ],
      "id": "4"
    },
    {
      "cell_type": "markdown",
      "metadata": {},
      "source": [
        "## Problems (Total: 50/60 Points)"
      ],
      "id": "f2073def-61a2-448c-9230-3ab492c03d08"
    },
    {
      "cell_type": "markdown",
      "metadata": {},
      "source": [
        "### Problem 1 (25 points)\n",
        "\n",
        "A river which flows at 10 km/d is receiving discharges of wastewater\n",
        "contaminated with CRUD from two sources which are 15 km apart, as shown\n",
        "in the Figure below. CRUD decays exponentially in the river at a rate of\n",
        "0.36 $\\mathrm{d}^{-1}$."
      ],
      "id": "ce624377-e137-4a9f-a20a-0e1fe9c22361"
    },
    {
      "cell_type": "markdown",
      "metadata": {},
      "source": [
        "<figure>\n",
        "<img src=\"attachment:figures/river_diagram.png\"\n",
        "alt=\"Schematic of the river system in Problem 1\" />\n",
        "<figcaption aria-hidden=\"true\">Schematic of the river system in Problem\n",
        "1</figcaption>\n",
        "</figure>"
      ],
      "attachments": {
        "figures/river_diagram.png": {
          "image/png": "[encoded data removed]"
        }
      },
      "id": "9b5fbbf1-d3b0-454a-a4ce-8044fe99b29e"
    },
    {
      "cell_type": "markdown",
      "metadata": {},
      "source": [
        "**In this problem**:\n",
        "\n",
        "-   Assuming steady-state conditions, derive a model for the\n",
        "    concentration of CRUD downriver by solving the appropriate\n",
        "    differential equation(s) analytically.\n",
        "-   Determine if the system in compliance with a regulatory limit of 2.5\n",
        "    kg/(1000 m$^3$)."
      ],
      "id": "bd43b13a-22d2-4091-abf0-a43333d97b47"
    },
    {
      "cell_type": "markdown",
      "metadata": {},
      "source": [
        "> **Tip**\n",
        ">\n",
        "> Your solution will need to be in terms of distance downriver.\n",
        "\n",
        "### Problem 2 (25 points)\n",
        "\n",
        "Consider the shallow lake model from class:\n",
        "\n",
        "$$\n",
        "\\begin{align*}\n",
        "X_{t+1} &= X_t + a_t + y_t + \\frac{X_t^q}{1 + X_t^q} - bX_t, \\\\\n",
        "y_t &\\sim \\text{LogNormal}(\\mu, \\sigma^2),\n",
        "\\end{align*}\n",
        "$$\n",
        "\n",
        "where:\n",
        "\n",
        "-   $X_t$ is the lake phosphorous (P) concentration at time $t$;\n",
        "-   $a_t$ is the point-source P release at time $t$;\n",
        "-   $y_t$ is the non-point-source P release at time $t$, which is\n",
        "    treated as random from a LogNormal distribution with mean $\\mu$ and\n",
        "    standard deviation $\\sigma$;\n",
        "-   $b$ is the linear rate of P outflow;\n",
        "-   $q$ is a parameter influencing the rate of P recycling from the\n",
        "    sediment.\n",
        "\n",
        "**In this problem**:\n",
        "\n",
        "-   Make an initial conditions plot for the model dynamics for $b=0.4$,\n",
        "    $q=2.5$, $y_t=0$, and $a_t=0$ for $t=0, \\ldots, 30$. What are the\n",
        "    equilibria? What can you say about the resilience of the system?\n",
        "\n",
        "    > **Finding equilibria**\n",
        "    >\n",
        "    > Use [`Roots.jl`](https://juliamath.github.io/Roots.jl/stable/) to\n",
        "    > find the equilibria by solving for values where $X_{t+1} = X_t$.\n",
        "    > For example, if you have functions `X_outflow(X,b)` and\n",
        "    > `X_recycling(X,q)`, you could create a function\n",
        "    > `X_delta(x, a) = a + X_recycling(x) - X_outflow(x)` and call\n",
        "    > `Roots.find_zero(x -> X_delta(x, a), x₀)`, where `x₀` is an\n",
        "    > initial value for the search (you might need to use your plot to\n",
        "    > find values for `x₀` near each of the “true” equilibria).\n",
        "\n",
        "-   Repeat the analysis with $a_t=0.05$ for all $t$. What are the new\n",
        "    equilibria? How have the dynamics and resilience of the system\n",
        "    changed?"
      ],
      "id": "35189106-629b-4251-85d2-c630fa73a781"
    },
    {
      "cell_type": "markdown",
      "metadata": {},
      "source": [
        "### Problem 3 (10 points)\n",
        "\n",
        "**This problem is only required for students in BEE 5750**.\n",
        "\n",
        "Consider the lake eutrophication example from [Lecture\n",
        "04](https://viveks.me/environmental-systems-analysis/slides/lecture04-eutrophication-modeling.html#/title-slide).\n",
        "Suppose that phosphorous is also atmospherically deposited onto the lake\n",
        "surface at a rate of\n",
        "$1.6 \\times 10^{-4} \\mathrm{kg/(yr} \\cdot \\mathrm{m}^2)$, which is then\n",
        "instantly mixed into the lake. Derive a model for the lake phosphorous\n",
        "concentration and find the maximum allowable point source phosphorous\n",
        "loading if the goal is to keep lake concentrations below 0.02 mg/L."
      ],
      "id": "0e65378a-bc05-4721-b30b-46280a5e9ffa"
    },
    {
      "cell_type": "markdown",
      "metadata": {},
      "source": [
        "## References\n",
        "\n",
        "List any external references consulted, including classmates."
      ],
      "id": "1262e36e-f69c-4b87-8aef-0af71bf106af"
    }
  ],
  "nbformat": 4,
  "nbformat_minor": 5,
  "metadata": {
    "kernel_info": {
      "name": "julia"
    },
    "kernelspec": {
      "name": "julia",
      "display_name": "Julia",
      "language": "julia"
    },
    "language_info": {
      "name": "julia",
      "codemirror_mode": "julia",
      "version": "1.10.4"
    }
  }
}