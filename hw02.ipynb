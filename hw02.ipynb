{
  "cells": [
    {
      "cell_type": "markdown",
      "id": "572fc4c1-d6c0-4731-8457-117d4cb1af8c",
      "metadata": {},
      "source": [
        "# BEE 4750 Homework 2: Systems Modeling and Simulation\n",
        "\n",
        "**Name**:\n",
        "\n",
        "**ID**:\n",
        "\n",
        "> **Due Date**\n",
        ">\n",
        "> Thursday, 09/19/24, 9:00pm\n",
        "\n",
        "## Overview\n",
        "\n",
        "### Instructions\n",
        "\n",
        "-   Problem 1 asks you to derive a model for water quality in a river\n",
        "    system and use this model to check for regulatory compliance.\n",
        "-   Problem 2 asks you to explore the dynamics and equilibrium stability\n",
        "    of the shallow lake model under a particular set of parameter\n",
        "    values.\n",
        "-   Problem 3 (5750 only) asks you to modify the lake eutrophication\n",
        "    example from Lecture 04 to account for atmospheric deposition.\n",
        "\n",
        "### Load Environment\n",
        "\n",
        "The following code loads the environment and makes sure all needed\n",
        "packages are installed. This should be at the start of most Julia\n",
        "scripts."
      ]
    },
    {
      "cell_type": "code",
      "execution_count": 1,
      "id": "2",
      "metadata": {},
      "outputs": [],
      "source": [
        "import Pkg\n",
        "Pkg.activate(@__DIR__)\n",
        "Pkg.instantiate()"
      ]
    },
    {
      "cell_type": "code",
      "execution_count": 1,
      "id": "4",
      "metadata": {},
      "outputs": [],
      "source": [
        "using Plots\n",
        "using LaTeXStrings\n",
        "using CSV\n",
        "using DataFrames\n",
        "using Roots"
      ]
    },
    {
      "cell_type": "markdown",
      "id": "8b4a3534-e14d-4906-aa05-05d236bd34a6",
      "metadata": {},
      "source": [
        "## Problems (Total: 50/60 Points)"
      ]
    },
    {
      "cell_type": "markdown",
      "id": "3e40ec30-80ea-4396-84ff-868b7a30ee6a",
      "metadata": {},
      "source": [
        "### Problem 1 (25 points)\n",
        "\n",
        "A river which flows at 10 km/d is receiving discharges of wastewater\n",
        "contaminated with CRUD from two sources which are 15 km apart, as shown\n",
        "in the Figure below. CRUD decays exponentially in the river at a rate of\n",
        "0.36 $\\mathrm{d}^{-1}$."
      ]
    },
    {
      "cell_type": "markdown",
      "id": "493702b7-ca42-491f-bf2d-64009254bf67",
      "metadata": {},
      "source": [
        "<figure>\n",
        "<img src=\"figures/river_diagram.png\"\n",
        "alt=\"Schematic of the river system in Problem 1\" />\n",
        "<figcaption aria-hidden=\"true\">Schematic of the river system in Problem\n",
        "1</figcaption>\n",
        "</figure>"
      ]
    },
    {
      "cell_type": "markdown",
      "id": "df0ba375-ac21-4a8b-a6ba-abb7d8bbf46f",
      "metadata": {},
      "source": [
        "**In this problem**:\n",
        "\n",
        "-   Assuming steady-state conditions, derive a model for the\n",
        "    concentration of CRUD downriver by solving the appropriate\n",
        "    differential equation(s) analytically.\n",
        "-   Determine if the system in compliance with a regulatory limit of 2.5\n",
        "    kg/(1000 m$^3$)."
      ]
    },
    {
      "cell_type": "markdown",
      "id": "cbdb0e5e-2af4-4f80-b387-f29e8fe22bd4",
      "metadata": {},
      "source": [
        "> **Tip**\n",
        ">\n",
        "> Formulate your model in terms of distance downriver, rather than\n",
        "> leaving it in terms of time from discharge.\n",
        "\n",
        "### Problem 2 (25 points)\n",
        "\n",
        "Consider the shallow lake model from class:\n",
        "\n",
        "$$\n",
        "\\begin{aligned}\n",
        "X_{t+1} &= X_t + a_t + y_t + \\frac{X_t^q}{1 + X_t^q} - bX_t, \\\\\n",
        "y_t &\\sim \\text{LogNormal}(\\mu, \\sigma^2),\n",
        "\\end{aligned}\n",
        "$$\n",
        "\n",
        "where:\n",
        "\n",
        "-   $X_t$ is the lake phosphorous (P) concentration at time $t$;\n",
        "-   $a_t$ is the point-source P release at time $t$;\n",
        "-   $y_t$ is the non-point-source P release at time $t$, which is\n",
        "    treated as random from a LogNormal distribution with mean $\\mu$ and\n",
        "    standard deviation $\\sigma$;\n",
        "-   $b$ is the linear rate of P outflow;\n",
        "-   $q$ is a parameter influencing the rate of P recycling from the\n",
        "    sediment.\n",
        "\n",
        "**In this problem**:\n",
        "\n",
        "-   Make an initial conditions plot for the model dynamics for $b=0.5$,\n",
        "    $q=1.5$, $y_t=0$, and $a_t=0$ for $t=0, \\ldots, 30$. What are the\n",
        "    equilibria? What can you say about the resilience of the system?\n",
        "\n",
        "    > **Finding equilibria**\n",
        "    >\n",
        "    > Use [`Roots.jl`](https://juliamath.github.io/Roots.jl/stable/) to\n",
        "    > find the equilibria by solving for values where $X_{t+1} = X_t$.\n",
        "    > For example, if you have functions `X_outflow(X,b)` and\n",
        "    > `X_recycling(X,q)`, you could create a function\n",
        "    > `X_delta(x, a) = a + X_recycling(x) - X_outflow(x)` and call\n",
        "    > `Roots.find_zero(x -> X_delta(x, a), x₀)`, where `x₀` is an\n",
        "    > initial value for the search (you might need to use your plot to\n",
        "    > find values for `x₀` near each of the “true” equilibria).\n",
        "\n",
        "-   Repeat the analysis with $a_t=0.02$ for all $t$. What are the new\n",
        "    equilibria? How have the dynamics and resilience of the system\n",
        "    changed?"
      ]
    },
    {
      "cell_type": "markdown",
      "id": "f6b156f6-6f0d-47d1-b798-6b557cdafa9b",
      "metadata": {},
      "source": [
        "### Problem 3 (10 points)\n",
        "\n",
        "**This problem is only required for students in BEE 5750**.\n",
        "\n",
        "Consider the lake eutrophication example from [Lecture\n",
        "04](https://viveks.me/environmental-systems-analysis/slides/lecture04-eutrophication-modeling.html#/title-slide).\n",
        "Suppose that phosphorous is also atmospherically deposited onto the lake\n",
        "surface at a rate of\n",
        "$1.6 \\times 10^{-4} \\mathrm{kg/(yr} \\cdot \\mathrm{m}^2)$, which is then\n",
        "instantly mixed into the lake. Derive a model for the lake phosphorous\n",
        "concentration and find the maximum allowable point source phosphorous\n",
        "loading if the goal is to keep lake concentrations below 0.02 mg/L."
      ]
    },
    {
      "cell_type": "markdown",
      "id": "0a79cb69-9d71-4d07-a2b5-98215a6296d4",
      "metadata": {},
      "source": [
        "## References\n",
        "\n",
        "List any external references consulted, including classmates."
      ]
    }
  ],
  "metadata": {
    "kernel_info": {
      "name": "julia"
    },
    "kernelspec": {
      "display_name": "Julia",
      "language": "julia",
      "name": "julia"
    },
    "language_info": {
      "codemirror_mode": "julia",
      "name": "julia",
      "version": "1.10.4"
    }
  },
  "nbformat": 4,
  "nbformat_minor": 5
}
